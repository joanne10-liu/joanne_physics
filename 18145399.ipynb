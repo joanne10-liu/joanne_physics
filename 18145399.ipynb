{
 "cells": [
  {
   "cell_type": "markdown",
   "metadata": {},
   "source": [
    "# Final Assignment 18145399"
   ]
  },
  {
   "cell_type": "markdown",
   "metadata": {},
   "source": [
    "# Introduction\n",
    "## Aims and Objectives\n",
    "In this assessment, I will code a game in Python 3 kernel with mechanics similar to “Angry Birds”, in which users can enter the parameters of initial velocity, which are its angle $\\alpha$ with the horizontal ground and its magnitude $v_0$, to launch a projectile at a target to try to topple it. In order to do this, I am going to write the codes for:\n",
    "\n",
    "• showing the path of the projectile;\n",
    "\n",
    "• calculating the momentum of the object at the point of collision with the target, the impulse transferred to the target as well as the torque applying to the target due to the collision, and whether or not this is greater than the restoring torque to make target be toppled.\n",
    "\n",
    "• showing the animation of the whole process.\n",
    "\n",
    "## Theory\n",
    "In this assignment, we would use following equation to calculate the displacement, velocity, momentum of birds, applied force and torque to target as weel as the magnitude of restoring torque.\n",
    "\n",
    "For path calculating, we get:\n",
    "$$  \n",
    "r_x = r_{x0}+v_0cos\\theta dt \\\\\n",
    "r_y = r_{y0}+v_0sin\\theta dt - \\frac{gt^2}{2} \\\\\n",
    "\\vec{position} = (r_x, r_y, 0)\n",
    "$$\n",
    "\n",
    "For momentum, we obtain:\n",
    "$$ \\vec{p} = m\\frac{d\\vec{r}}{dt}= m\\vec{v} $$\n",
    "$$ v_x = v_0cos\\theta  $$\n",
    "$$ v_y = v_0sin\\theta - gdt $$\n",
    "$$ p_x = mv_x = mv_0cos\\theta  $$\n",
    "$$ p_y = mv_y = mv_0sin\\theta - mgdt $$\n",
    "\n",
    "We assume that the collision between the target and bird is complete elatstic, and the total momentum of bird would transfer to the target during the finite contact time $\\delta t_{collision}$,\n",
    "\n",
    "The force can be calculated from the impulse:\n",
    "$$ \\vec{p}= m\\vec{v}$$\n",
    "$$\\delta{\\vec{p}} = \\vec{I}$$\n",
    "$$  \\vec{F_{applied}​} =  \\frac{\\vec{I}}{\\delta t_{collision}} =  \\frac{ m\\vec{v}}{\\delta t_{collision}}$$\n",
    "\n",
    ",which are:\n",
    "$$F_x =  \\frac{mv_o\\cos\\theta}{\\delta t_{collision}}$$\n",
    "$$ F_y =  \\frac{m(v_o\\sin\\theta -gt)}{\\delta t_{collision}}$$\n",
    "$$\\vec{F_{applied}}=(F_x, F_y, 0)$$\n",
    "During the collsion(before target toppled with an angle), there would be a applied torque to make the target fall against restoring torque relevant to the gravity:\n",
    "$$|\\vec{t_{restoring}}|= -Mg\\frac{w}{2}$$\n",
    "$$ \\vec{d_a} = (w, -h ,0)$$\n",
    "$$\\vec{t_{applied}} = \\vec{F_{applied}}\\times \\vec{d_a}$$\n",
    "$$|\\vec{t_{applied}}| = |\\vec{F_{applied}}\\times \\vec{d_a}|= |(F_x, F_y, 0)\\times (w, -h ,0)|$$\n",
    "\n",
    "When $|\\vec{t_{restoring}}|$ smaller than $|\\vec{t_{applied}}|$, the target toppled."
   ]
  },
  {
   "cell_type": "code",
   "execution_count": 2,
   "metadata": {},
   "outputs": [
    {
     "data": {
      "text/html": [
       "<div id=\"glowscript\" class=\"glowscript\"></div>"
      ],
      "text/plain": [
       "<IPython.core.display.HTML object>"
      ]
     },
     "metadata": {},
     "output_type": "display_data"
    },
    {
     "data": {
      "application/javascript": [
       "if (typeof Jupyter !== \"undefined\") { window.__context = { glowscript_container: $(\"#glowscript\").removeAttr(\"id\")};}else{ element.textContent = ' ';}"
      ],
      "text/plain": [
       "<IPython.core.display.Javascript object>"
      ]
     },
     "metadata": {},
     "output_type": "display_data"
    }
   ],
   "source": [
    "# import Vpython function\n",
    "import numpy as np\n",
    "from vpython import  sphere, color, rate, canvas, vector, curve, label, box, cross, mag, random, arrow, radians"
   ]
  },
  {
   "cell_type": "code",
   "execution_count": null,
   "metadata": {},
   "outputs": [],
   "source": [
    "def initial_frame():\n",
    "    scene = canvas(width=640, height=480, center=vector(8,5,0),range=8)\n",
    "    ground = curve(pos=[(0,0,0),(16,0,0)],color=color.green)\n",
    "    label(pos=vector(8,-2,0), text='Welcome to My Game', font='sans')\n",
    "    bird = sphere(pos = vector(0,random(),0),radius= 0.3,color=color.blue,make_trail=False) \n",
    "    bird.trail_color = color.white\n",
    "    momentum_vector = arrow(pos = bird.pos,axis= (vector(vx,vy,0)), shaftwidth=0.1, \n",
    "                    headwidth = 0.15, headlength = 0.15,color=color.blue)\n",
    "def generate_bird(rx,ry,trial):\n",
    "    bird = sphere(pos = vector(rx,ry,0),radius= 0.3,color=color.blue,make_trail=trail)\n",
    "    bird.trial_color=color.white\n",
    "    momentum_vector = arrow(pos = bird.pos,axis= (vector(vx,vy,0)), shaftwidth=0.1, \n",
    "                headwidth = 0.15, headlength = 0.15,color=color.blue)\n",
    "def generate_target():\n",
    "    target = "
   ]
  },
  {
   "cell_type": "code",
   "execution_count": 7,
   "metadata": {},
   "outputs": [
    {
     "name": "stdout",
     "output_type": "stream",
     "text": [
      "Please input the initial speed in m/s: 10\n",
      "Please input the initial angle in degree: 30\n"
     ]
    },
    {
     "ename": "NameError",
     "evalue": "name 'd' is not defined",
     "output_type": "error",
     "traceback": [
      "\u001b[1;31m---------------------------------------------------------------------------\u001b[0m",
      "\u001b[1;31mNameError\u001b[0m                                 Traceback (most recent call last)",
      "\u001b[1;32m<ipython-input-7-726342bb113e>\u001b[0m in \u001b[0;36m<module>\u001b[1;34m\u001b[0m\n\u001b[0;32m     57\u001b[0m \u001b[0mfy\u001b[0m \u001b[1;33m=\u001b[0m \u001b[1;33m(\u001b[0m\u001b[0mm\u001b[0m\u001b[1;33m*\u001b[0m\u001b[0mvy\u001b[0m\u001b[1;33m)\u001b[0m\u001b[1;33m/\u001b[0m\u001b[0mtc\u001b[0m \u001b[1;31m# y-direction magnitude of applied force vector\u001b[0m\u001b[1;33m\u001b[0m\u001b[1;33m\u001b[0m\u001b[0m\n\u001b[0;32m     58\u001b[0m \u001b[0mF\u001b[0m \u001b[1;33m=\u001b[0m \u001b[0mvector\u001b[0m\u001b[1;33m(\u001b[0m\u001b[0mfx\u001b[0m\u001b[1;33m,\u001b[0m\u001b[0mfy\u001b[0m\u001b[1;33m,\u001b[0m\u001b[1;36m0\u001b[0m\u001b[1;33m)\u001b[0m   \u001b[1;31m# applied force vector\u001b[0m\u001b[1;33m\u001b[0m\u001b[1;33m\u001b[0m\u001b[0m\n\u001b[1;32m---> 59\u001b[1;33m \u001b[0mta\u001b[0m \u001b[1;33m=\u001b[0m \u001b[0mF\u001b[0m\u001b[1;33m.\u001b[0m\u001b[0mcross\u001b[0m\u001b[1;33m(\u001b[0m\u001b[0md\u001b[0m\u001b[1;33m)\u001b[0m \u001b[1;31m# torque applied (applied force corss product displacement vector)\u001b[0m\u001b[1;33m\u001b[0m\u001b[1;33m\u001b[0m\u001b[0m\n\u001b[0m\u001b[0;32m     60\u001b[0m \u001b[0mmta\u001b[0m \u001b[1;33m=\u001b[0m \u001b[0mmag\u001b[0m\u001b[1;33m(\u001b[0m\u001b[0mta\u001b[0m\u001b[1;33m)\u001b[0m  \u001b[1;31m#magnitude of torque applied\u001b[0m\u001b[1;33m\u001b[0m\u001b[1;33m\u001b[0m\u001b[0m\n\u001b[0;32m     61\u001b[0m \u001b[0mmtr\u001b[0m \u001b[1;33m=\u001b[0m \u001b[0mM\u001b[0m\u001b[1;33m*\u001b[0m\u001b[0mg\u001b[0m\u001b[1;33m*\u001b[0m\u001b[0mw\u001b[0m\u001b[1;33m/\u001b[0m\u001b[1;36m2\u001b[0m  \u001b[1;31m#magnitude of torque restoring\u001b[0m\u001b[1;33m\u001b[0m\u001b[1;33m\u001b[0m\u001b[0m\n",
      "\u001b[1;31mNameError\u001b[0m: name 'd' is not defined"
     ]
    }
   ],
   "source": [
    "# ------------------------------------set up for constants---------------------------------------------------------\n",
    "# Part of codes in following are copied from the Session 9 script and work done by me in Session 9 and Session 8\n",
    "# the followings are in units where one screen unit is equal to one metre \n",
    "# Define some physical quantities and constants\n",
    "M = 100       # mass of target (in units kg)\n",
    "m = 0.1       # mass of bird (in units kg)\n",
    "g = 9.81      # gravitational acceleration (in units m/s^2)\n",
    "tc = 0.01 # contact time of collision\n",
    "w = 0.5 # width of target \n",
    "t = 0 # time period before bird fall on the ground\n",
    "dt = 0.0001 # timestep set for path drawing\n",
    "\n",
    "#---------------------------------------set up for canvas, bird and target------------------------------------------------------------\n",
    "\n",
    "def canvas_set():\n",
    "    '''function that creates basic set which is need to be\n",
    "     repeated when hitting or toppling fails and there is no needs for inputs.'''\n",
    "    # create a canvas for the picture \n",
    "    scene = canvas(width=640, height=480, center=vector(8,5,0),range=8)\n",
    "    # create a “ground” near the bottom of the canvas\n",
    "    ground = curve(pos=[(0,0,0),(16,0,0)],color=color.green)\n",
    "    # label for the canvas\n",
    "    label(pos=vector(8,-2,0), text='Welcome to My Game', font='sans')\n",
    "    # random x-position of target\n",
    "    xtarget = 5+random()*10    \n",
    "    # set target \n",
    "    target = box(pos=vector(xtarget,1,0), length=0.5, height=2, width=0.5) \n",
    "    # set platform for launching\n",
    "    y = random() # random y-position of platform\n",
    "    platform = curve(pos=[(-0.4,y,0),(0.4,y,0)],color=color.green) # set platform\n",
    "    # set other quantities \n",
    "    rx = 0 # original x-position of bird\n",
    "    ry = y+0.15 # original y-position of bird\n",
    "    h = ry # height of where collision happen \n",
    "    d = vector(w,-h,0) # displacement vector of force applied\n",
    "    # set the bird with its moving trail\n",
    "    bird = sphere(pos = vector(rx,ry,0),radius= 0.3,color=color.blue,make_trail=False) \n",
    "    # change trail colour\n",
    "    bird.trail_color = color.white\n",
    "    # set arrow showing the size and direction of momentum of bird\n",
    "    momentum_vector = arrow(pos = bird.pos,axis= (vector(vx,vy,0)), shaftwidth=0.1, \n",
    "                    headwidth = 0.15, headlength = 0.15,color=color.blue)\n",
    "\n",
    "    #--------------------------------------------inputs of parameters for the launching-------------------------------------------\n",
    "\n",
    "    # input parameter v0 and theta for initial velocity\n",
    "v0 = float(input(\"Please input the initial speed in m/s: \"))\n",
    "thetad = float(input(\"Please input the initial angle in degree: \")) \n",
    "# original angle (in radians) of input velocity with the horizontal ground \n",
    "e = np.radians(thetad) \n",
    "\n",
    "# define the velocity, force and torque based on the inputs\n",
    "vx = v0*np.cos(e) # x-direction magnitude of velocity of bird\n",
    "vy = v0*np.sin(e)-g*t# y-direction magnitude of velocity of bird \n",
    "fx = (m*vx)/tc  # x-direction magnitude of applied force vector \n",
    "fy = (m*vy)/tc # y-direction magnitude of applied force vector\n",
    "F = vector(fx,fy,0)   # applied force vector   \n",
    "ta = F.cross(d) # torque applied (applied force corss product displacement vector)\n",
    "mta = mag(ta)  #magnitude of torque applied\n",
    "mtr = M*g*w/2  #magnitude of torque restoring\n",
    "\n",
    "\n",
    "\n",
    "\n"
   ]
  },
  {
   "cell_type": "code",
   "execution_count": 10,
   "metadata": {},
   "outputs": [],
   "source": [
    "def set_canvas(rx, ry, d):\n",
    "    '''function that creates basic set which is need to be\n",
    "     repeated when hitting or toppling fails and there is no needs for inputs.'''\n",
    "    # create a canvas for the picture \n",
    "    scene = canvas(width=640, height=480, center=vector(8,5,0),range=8)\n",
    "    # create a “ground” near the bottom of the canvas\n",
    "    ground = curve(pos=[(0,0,0),(16,0,0)],color=color.green)\n",
    "    # label for the canvas\n",
    "    label(pos=vector(8,-2,0), text='Welcome to My Game', font='sans')\n",
    "    # random x-position of target\n",
    "    xtarget = 5+random()*10    \n",
    "    # set target \n",
    "    target = box(pos=vector(xtarget,1,0), length=0.5, height=2, width=0.5) \n",
    "    # set platform for launching\n",
    "    y = random() # random y-position of platform\n",
    "    platform = curve(pos=[(-0.4,y,0),(0.4,y,0)],color=color.green) # set platform\n",
    "    # set other quantities \n",
    "    ry = y+0.15 # original y-position of bird\n",
    "    h = ry # height of where collision happen \n",
    "    d = vector(w,-h,0) # displacement vector of force applied\n",
    "    # set the bird with its moving trail\n",
    "    bird = sphere(pos = vector(rx,ry,0),radius= 0.3,color=color.blue,make_trail=False) \n",
    "    # change trail colour\n",
    "    bird.trail_color = color.white\n",
    "    # set arrow showing the size and direction of momentum of bird\n",
    "    momentum_vector = arrow(pos = bird.pos,axis= (vector(vx,vy,0)), shaftwidth=0.1, \n",
    "                    headwidth = 0.15, headlength = 0.15,color=color.blue)"
   ]
  },
  {
   "cell_type": "code",
   "execution_count": 13,
   "metadata": {},
   "outputs": [
    {
     "data": {
      "text/html": [
       "<div id=\"glowscript\" class=\"glowscript\"></div>"
      ],
      "text/plain": [
       "<IPython.core.display.HTML object>"
      ]
     },
     "metadata": {},
     "output_type": "display_data"
    },
    {
     "data": {
      "application/javascript": [
       "if (typeof Jupyter !== \"undefined\") { window.__context = { glowscript_container: $(\"#glowscript\").removeAttr(\"id\")};}else{ element.textContent = ' ';}"
      ],
      "text/plain": [
       "<IPython.core.display.Javascript object>"
      ]
     },
     "metadata": {},
     "output_type": "display_data"
    }
   ],
   "source": [
    "set_canvas(1,1,vector(0,0,0))"
   ]
  },
  {
   "cell_type": "code",
   "execution_count": 6,
   "metadata": {},
   "outputs": [
    {
     "data": {
      "text/html": [
       "<div id=\"glowscript\" class=\"glowscript\"></div>"
      ],
      "text/plain": [
       "<IPython.core.display.HTML object>"
      ]
     },
     "metadata": {},
     "output_type": "display_data"
    },
    {
     "data": {
      "application/javascript": [
       "if (typeof Jupyter !== \"undefined\") { window.__context = { glowscript_container: $(\"#glowscript\").removeAttr(\"id\")};}else{ element.textContent = ' ';}"
      ],
      "text/plain": [
       "<IPython.core.display.Javascript object>"
      ]
     },
     "metadata": {},
     "output_type": "display_data"
    },
    {
     "data": {
      "application/javascript": [
       "if (typeof Jupyter !== \"undefined\") {require.undef(\"nbextensions/vpython_libraries/glow.min\");}else{element.textContent = ' ';}"
      ],
      "text/plain": [
       "<IPython.core.display.Javascript object>"
      ]
     },
     "metadata": {},
     "output_type": "display_data"
    },
    {
     "data": {
      "application/javascript": [
       "if (typeof Jupyter !== \"undefined\") {require.undef(\"nbextensions/vpython_libraries/glowcomm\");}else{element.textContent = ' ';}"
      ],
      "text/plain": [
       "<IPython.core.display.Javascript object>"
      ]
     },
     "metadata": {},
     "output_type": "display_data"
    },
    {
     "data": {
      "application/javascript": [
       "if (typeof Jupyter !== \"undefined\") {require.undef(\"nbextensions/vpython_libraries/jquery-ui.custom.min\");}else{element.textContent = ' ';}"
      ],
      "text/plain": [
       "<IPython.core.display.Javascript object>"
      ]
     },
     "metadata": {},
     "output_type": "display_data"
    },
    {
     "data": {
      "application/javascript": [
       "if (typeof Jupyter !== \"undefined\") {require([\"nbextensions/vpython_libraries/glow.min\"], function(){console.log(\"GLOW LOADED\");});}else{element.textContent = ' ';}"
      ],
      "text/plain": [
       "<IPython.core.display.Javascript object>"
      ]
     },
     "metadata": {},
     "output_type": "display_data"
    },
    {
     "data": {
      "application/javascript": [
       "if (typeof Jupyter !== \"undefined\") {require([\"nbextensions/vpython_libraries/glowcomm\"], function(){console.log(\"GLOWCOMM LOADED\");});}else{element.textContent = ' ';}"
      ],
      "text/plain": [
       "<IPython.core.display.Javascript object>"
      ]
     },
     "metadata": {},
     "output_type": "display_data"
    },
    {
     "data": {
      "application/javascript": [
       "if (typeof Jupyter !== \"undefined\") {require([\"nbextensions/vpython_libraries/jquery-ui.custom.min\"], function(){console.log(\"JQUERY LOADED\");});}else{element.textContent = ' ';}"
      ],
      "text/plain": [
       "<IPython.core.display.Javascript object>"
      ]
     },
     "metadata": {},
     "output_type": "display_data"
    },
    {
     "ename": "UnboundLocalError",
     "evalue": "local variable 'vx' referenced before assignment",
     "output_type": "error",
     "traceback": [
      "\u001b[1;31m---------------------------------------------------------------------------\u001b[0m",
      "\u001b[1;31mUnboundLocalError\u001b[0m                         Traceback (most recent call last)",
      "\u001b[1;32m<ipython-input-6-c8258d3f818d>\u001b[0m in \u001b[0;36m<module>\u001b[1;34m\u001b[0m\n\u001b[0;32m      4\u001b[0m \u001b[0mrx\u001b[0m\u001b[1;33m=\u001b[0m\u001b[1;36m0\u001b[0m\u001b[1;33m\u001b[0m\u001b[1;33m\u001b[0m\u001b[0m\n\u001b[0;32m      5\u001b[0m \u001b[1;32mwhile\u001b[0m \u001b[0mry\u001b[0m\u001b[1;33m>=\u001b[0m\u001b[1;36m0\u001b[0m \u001b[1;32mand\u001b[0m \u001b[0mrx\u001b[0m\u001b[1;33m<=\u001b[0m\u001b[1;36m16\u001b[0m\u001b[1;33m:\u001b[0m\u001b[1;33m\u001b[0m\u001b[1;33m\u001b[0m\u001b[0m\n\u001b[1;32m----> 6\u001b[1;33m     \u001b[0mcanvas_set\u001b[0m\u001b[1;33m(\u001b[0m\u001b[1;33m)\u001b[0m\u001b[1;33m\u001b[0m\u001b[1;33m\u001b[0m\u001b[0m\n\u001b[0m\u001b[0;32m      7\u001b[0m     \u001b[0mbird\u001b[0m\u001b[1;33m.\u001b[0m\u001b[0mmake_trail\u001b[0m \u001b[1;33m=\u001b[0m \u001b[1;32mTrue\u001b[0m\u001b[1;33m\u001b[0m\u001b[1;33m\u001b[0m\u001b[0m\n\u001b[0;32m      8\u001b[0m     \u001b[0mrate\u001b[0m\u001b[1;33m(\u001b[0m\u001b[1;36m500\u001b[0m\u001b[1;33m)\u001b[0m \u001b[1;31m# control the rate of motion\u001b[0m\u001b[1;33m\u001b[0m\u001b[1;33m\u001b[0m\u001b[0m\n",
      "\u001b[1;32m<ipython-input-5-bf94e0b3c127>\u001b[0m in \u001b[0;36mcanvas_set\u001b[1;34m()\u001b[0m\n\u001b[0;32m     39\u001b[0m     \u001b[0mbird\u001b[0m\u001b[1;33m.\u001b[0m\u001b[0mtrail_color\u001b[0m \u001b[1;33m=\u001b[0m \u001b[0mcolor\u001b[0m\u001b[1;33m.\u001b[0m\u001b[0mwhite\u001b[0m\u001b[1;33m\u001b[0m\u001b[1;33m\u001b[0m\u001b[0m\n\u001b[0;32m     40\u001b[0m     \u001b[1;31m# set arrow showing the size and direction of momentum of bird\u001b[0m\u001b[1;33m\u001b[0m\u001b[1;33m\u001b[0m\u001b[1;33m\u001b[0m\u001b[0m\n\u001b[1;32m---> 41\u001b[1;33m     momentum_vector = arrow(pos = bird.pos,axis= (vector(vx,vy,0)), shaftwidth=0.1, \n\u001b[0m\u001b[0;32m     42\u001b[0m                     headwidth = 0.15, headlength = 0.15,color=color.blue)\n\u001b[0;32m     43\u001b[0m \u001b[1;33m\u001b[0m\u001b[0m\n",
      "\u001b[1;31mUnboundLocalError\u001b[0m: local variable 'vx' referenced before assignment"
     ]
    }
   ],
   "source": [
    "#-----------------------------------------begin the launching-----------------------------------------------------\n",
    "# for the motion does not exceed the canvas\n",
    "ry = 0\n",
    "rx=0\n",
    "while ry>=0 and rx<=16: \n",
    "    canvas_set()\n",
    "    bird.make_trail = True\n",
    "    rate(500) # control the rate of motion\n",
    "    t = t + dt #acculmulating the time before bird fall on the ground\n",
    "    rx = rx + vx*t # accumulate x value\n",
    "    ry = ry + vy*t-(g*t**2)/2  # accumulate x value\n",
    "    vx = vx # vx remains the same\n",
    "    vy = vy - g*t  # accumulate vy value\n",
    "    bird.pos = vector(rx,ry,0) # change birds position\n",
    "    momentum_vector.pos = vector(rx,ry,0)  # change arrow position\n",
    "    momentum_vector.axis = vector(vx,vy,0)# change arrow direction \n",
    "\n",
    "    #define if bird hits the target\n",
    "    if xtarget-0.25 <= rx and rx <= 0.25+xtarget and  ry<=2: \n",
    "        # let bird land at that x-position with y-position eqaul to 0\n",
    "        rx = rx \n",
    "        ry = 0\n",
    "        bird.pos = vector(rx,ry,0)\n",
    "        # let arrow disappear\n",
    "        vx = 0 \n",
    "        vy = 0\n",
    "        momentum_vector.pos = vector(rx,ry,0)\n",
    "        momentum_vector.axis = vector(vx,vy,0)\n",
    "        #('Congratulation! You hit the target!')\n",
    "\n",
    "        # after hitting, we define whether bird topples the target by comparing the torques\n",
    "        if mta >= mtr:\n",
    "            target.rotate(angle=-np.pi/2,axis=vector(0,0,1), origin=vector(xtarget,0.25,0))\n",
    "            label(pos=vector(8,8,0), text='Congratulation! You Win!', font='sans')\n",
    "        else:\n",
    "            choice = float(input(\"1Would you like to try again?(Please enter Y/F)\"))\n",
    "            if choice == Y:\n",
    "                set() #reset the canvas\n",
    "                bird.make_trail = False #clear the trail\n",
    "\n",
    "            else:\n",
    "                label(pos=vector(8,8,0), text='Thanks for playing.', font='sans') #quit the game\n",
    "    else:\n",
    "        rx = rx + vx*dt # accumulate x value\n",
    "        ry = ry + vy*dt-(g*dt**2)/2  # accumulate x value\n",
    "        vy = vy - g*dt  # accumulate vy value\n",
    "        bird.pos = vector(rx,ry,0) # change birds position\n",
    "        momentum_vector.pos = vector(rx,ry,0)\n",
    "        momentum_vector.axis = vector(vx,vy,0)# change arrow direction\n",
    "        if ry == 0:\n",
    "            choice = float(input(\"2Would you like to try again?(Please enter Y/F)\"))\n",
    "            if choice == Y:\n",
    "                set() #reset the canvas\n",
    "                bird.make_trail = False #clear the trail\n",
    "            else:\n",
    "                print(\"Thanks for playing.\")\n",
    "    label(pos=vector(rx,ry,0), text='This is a box')\n",
    "\n",
    "    #print(\"end of program\")"
   ]
  },
  {
   "cell_type": "code",
   "execution_count": 69,
   "metadata": {},
   "outputs": [
    {
     "data": {
      "text/html": [
       "<div id=\"glowscript\" class=\"glowscript\"></div>"
      ],
      "text/plain": [
       "<IPython.core.display.HTML object>"
      ]
     },
     "metadata": {},
     "output_type": "display_data"
    },
    {
     "data": {
      "application/javascript": [
       "if (typeof Jupyter !== \"undefined\") { window.__context = { glowscript_container: $(\"#glowscript\").removeAttr(\"id\")};}else{ element.textContent = ' ';}"
      ],
      "text/plain": [
       "<IPython.core.display.Javascript object>"
      ]
     },
     "metadata": {},
     "output_type": "display_data"
    }
   ],
   "source": [
    "scene = canvas(width=640, height=480, center=vector(8,5,0),range=8)\n",
    "xtarget = 5+random()*10    \n",
    "ground = curve(pos=[(0,0,0),(16,0,0)],color=color.green)\n",
    "target = box(pos=vector(xtarget,1,0), length=0.5, height=2, width=0.5) \n",
    "bird2 = sphere(pos = target.pos,radius= 0.3,color=color.blue,make_trail=True) \n",
    "\n",
    "#a=\n",
    "while a <= np.pi/2:\n",
    "    print('1')\n",
    "    rate(5)\n",
    "    a = a +1\n",
    "    target.rotate(angle=-a,axis=vector(0,0,1), origin=vector(xtarget,0.25,0))\n",
    "#              target.pos)\n",
    "              #)\n"
   ]
  },
  {
   "cell_type": "markdown",
   "metadata": {},
   "source": [
    "# "
   ]
  },
  {
   "cell_type": "code",
   "execution_count": 42,
   "metadata": {},
   "outputs": [
    {
     "data": {
      "text/plain": [
       "float"
      ]
     },
     "execution_count": 42,
     "metadata": {},
     "output_type": "execute_result"
    }
   ],
   "source": [
    "def iunu"
   ]
  },
  {
   "cell_type": "code",
   "execution_count": 12,
   "metadata": {},
   "outputs": [
    {
     "data": {
      "text/plain": [
       "0.6666666666666666"
      ]
     },
     "execution_count": 12,
     "metadata": {},
     "output_type": "execute_result"
    }
   ],
   "source": []
  },
  {
   "cell_type": "markdown",
   "metadata": {},
   "source": [
    "# Discussion\n",
    "\n",
    "## Suggestion for improving the physics representation \n",
    "## Future implemention of above improvements"
   ]
  }
 ],
 "metadata": {
  "kernelspec": {
   "display_name": "Python 3",
   "language": "python",
   "name": "python3"
  },
  "language_info": {
   "codemirror_mode": {
    "name": "ipython",
    "version": 3
   },
   "file_extension": ".py",
   "mimetype": "text/x-python",
   "name": "python",
   "nbconvert_exporter": "python",
   "pygments_lexer": "ipython3",
   "version": "3.7.4"
  }
 },
 "nbformat": 4,
 "nbformat_minor": 2
}
